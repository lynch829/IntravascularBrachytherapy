{
  "nbformat": 4,
  "nbformat_minor": 0,
  "metadata": {
    "colab": {
      "name": "VisualizeDose2.ipynb",
      "provenance": [],
      "authorship_tag": "ABX9TyOCU1pmSFYcFU0SSJNGs8kt",
      "include_colab_link": true
    },
    "kernelspec": {
      "name": "python3",
      "display_name": "Python 3"
    }
  },
  "cells": [
    {
      "cell_type": "markdown",
      "metadata": {
        "id": "view-in-github",
        "colab_type": "text"
      },
      "source": [
        "<a href=\"https://colab.research.google.com/github/mk688/IntravascularBrachytherapy/blob/master/VisualizeDose2.ipynb\" target=\"_parent\"><img src=\"https://colab.research.google.com/assets/colab-badge.svg\" alt=\"Open In Colab\"/></a>"
      ]
    },
    {
      "cell_type": "markdown",
      "metadata": {
        "id": "G013Rl3hMqep",
        "colab_type": "text"
      },
      "source": [
        "Visualize the dose scored from EGSnrc.\n",
        "Location is fixed from -6 to 6 and the last row should be Air. \n",
        "The input file has to have the regions in the same order as specified in Location."
      ]
    },
    {
      "cell_type": "code",
      "metadata": {
        "id": "Ykb-tBkASAjJ",
        "colab_type": "code",
        "colab": {}
      },
      "source": [
        "pip install git+https://github.com/anntzer/mplcursors"
      ],
      "execution_count": null,
      "outputs": []
    },
    {
      "cell_type": "code",
      "metadata": {
        "id": "RQBwRvdS5G2z",
        "colab_type": "code",
        "colab": {}
      },
      "source": [
        "import matplotlib.pyplot as plt\n",
        "import numpy as np\n",
        "import pandas as pd\n",
        "import seaborn as sns\n",
        "sns.set(color_codes=True, font_scale=1.2)\n",
        "import pandas.util.testing as tm\n",
        "import mplcursors"
      ],
      "execution_count": null,
      "outputs": []
    },
    {
      "cell_type": "code",
      "metadata": {
        "id": "i_8wCqIMQs0g",
        "colab_type": "code",
        "colab": {}
      },
      "source": [
        "# Upload output.txt file which contains the scored dose\n",
        "# Make sure you use a unique file name especially when you upload an updated file. \n",
        "# It saves all files - doesn't overwrite it.\n",
        "\n",
        "from google.colab import files\n",
        "uploaded = files.upload()\n",
        "\n",
        "print(uploaded)"
      ],
      "execution_count": null,
      "outputs": []
    },
    {
      "cell_type": "code",
      "metadata": {
        "id": "PJFLNpudSmzc",
        "colab_type": "code",
        "colab": {}
      },
      "source": [
        "# Read output file from the EGSnrc program \"Summary of region dosimetry per particle\"\n",
        "# Make sure to modify the name of objFile to match with your output file.\n",
        "\n",
        "dicRow = {}\n",
        "DoseTable = []\n",
        "\n",
        "objFile = open('output07202020.txt','r')\n",
        "for row in objFile:\n",
        "  lstRow = row.split()\n",
        "  dicRow = {\"ir\": int(lstRow[0]), \"Dose Scored\": float(lstRow[8])}\n",
        "  DoseTable.append(dicRow)\n",
        "objFile.close()\n"
      ],
      "execution_count": 4,
      "outputs": []
    },
    {
      "cell_type": "markdown",
      "metadata": {
        "id": "BqnwryGkoiBF",
        "colab_type": "text"
      },
      "source": [
        "Run the following cell with the fixed Location only with the simulation output with the source at the center.  normDose should be defined with the dose scored at 2 mm when the source is positioned at the center"
      ]
    },
    {
      "cell_type": "code",
      "metadata": {
        "id": "HGs4AtYJ5E3E",
        "colab_type": "code",
        "colab": {}
      },
      "source": [
        "# Location is fixed from -6 to 6\n",
        "\n",
        "Location = [-6,-5.5,-5,-4.5,-4,-3.5,-3,-2.5,-2,-1.5,-1,-0.5,0.5,1,1.5,2,2.5,3,3.5,4,4.5,5,5.5,6,0]\n",
        "normIndex = Location.index(2)\n",
        "\n",
        "# Normalize the dose such that Dose @ 2mm = 100%\n",
        "normDose = DoseTable[normIndex]['Dose Scored']"
      ],
      "execution_count": 6,
      "outputs": []
    },
    {
      "cell_type": "code",
      "metadata": {
        "id": "fgPA2BsZ1JpB",
        "colab_type": "code",
        "colab": {}
      },
      "source": [
        "# Normalize the dose based on the prescription dose (normDose) at 2mm with the assumption that the source is centered.\n",
        "\n",
        "normDoseTable = []\n",
        "for each in DoseTable:\n",
        "  normDoseEach = (each['Dose Scored']/normDose)*100\n",
        "  normDoseTable.append(normDoseEach)"
      ],
      "execution_count": 8,
      "outputs": []
    },
    {
      "cell_type": "code",
      "metadata": {
        "id": "4MicSiNn2XFe",
        "colab_type": "code",
        "colab": {
          "base_uri": "https://localhost:8080/",
          "height": 289
        },
        "outputId": "ba6dd1f7-b63d-4768-919c-c9b33a8de38f"
      },
      "source": [
        "# Plot normDoseTable (y-axis) vs. Location (x-axis)\n",
        "indices = [i for i in range(len(normDoseTable)) if normDoseTable[i]>400] \n",
        "LocationPlot = list(Location)\n",
        "normDoseTablePlot = list(normDoseTable)\n",
        "if indices:\n",
        "  for each in indices:\n",
        "    del LocationPlot[each]\n",
        "    del normDoseTablePlot[each]\n",
        "    indices[:] = [number-1 for number in indices]  \n",
        "\n",
        "# Published PDD for Sr-90\n",
        "xaxis1 = np.linspace(0.75, 6.0, 22, endpoint = True, retstep = False, dtype = None, axis =0 )\n",
        "xaxis2 = np.linspace(-0.75, -6.0, 22, endpoint = True, retstep = False, dtype = None, axis =0 )\n",
        "yaxis = [370, 261, 196, 155, 121, 100, 81.3, 67.1, 53.8, 45.6, 38.5, 31.6, 25.8, 20.9, 17.4, 14.2, 11.3, 9.2, 7.22, 5.83, 4.42, 3.54]\n",
        "\n",
        "plt.plot(LocationPlot, normDoseTablePlot, 'o', color='blue')\n",
        "plt.plot(xaxis1, yaxis, color='red')\n",
        "plt.plot(xaxis2, yaxis, color='red')\n",
        "plt.xlabel('Distance in mm')\n",
        "plt.ylabel('Normalized dose (%)')\n",
        "mplcursors.cursor(hover=True)\n",
        "plt.show()\n"
      ],
      "execution_count": 11,
      "outputs": [
        {
          "output_type": "display_data",
          "data": {
            "image/png": "[encoded data removed]",
            "text/plain": [
              "<Figure size 432x288 with 1 Axes>"
            ]
          },
          "metadata": {
            "tags": []
          }
        }
      ]
    }
  ]
}