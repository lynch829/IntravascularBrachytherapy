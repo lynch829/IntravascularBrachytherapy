{
  "nbformat": 4,
  "nbformat_minor": 0,
  "metadata": {
    "colab": {
      "name": "VisualizeDose.ipynb",
      "provenance": [],
      "authorship_tag": "ABX9TyPhzzKF0ucgtyyDRNChlQPW",
      "include_colab_link": true
    },
    "kernelspec": {
      "name": "python3",
      "display_name": "Python 3"
    }
  },
  "cells": [
    {
      "cell_type": "markdown",
      "metadata": {
        "id": "view-in-github",
        "colab_type": "text"
      },
      "source": [
        "<a href=\"https://colab.research.google.com/github/mk688/IntravascularBrachytherapy/blob/master/VisualizeDose.ipynb\" target=\"_parent\"><img src=\"https://colab.research.google.com/assets/colab-badge.svg\" alt=\"Open In Colab\"/></a>"
      ]
    },
    {
      "cell_type": "code",
      "metadata": {
        "id": "RQBwRvdS5G2z",
        "colab_type": "code",
        "colab": {}
      },
      "source": [
        "import matplotlib.pyplot as plt\n",
        "import numpy as np\n",
        "import pandas as pd\n",
        "import seaborn as sns\n",
        "sns.set(color_codes=True, font_scale=1.2)\n",
        "import pandas.util.testing as tm"
      ],
      "execution_count": null,
      "outputs": []
    },
    {
      "cell_type": "code",
      "metadata": {
        "id": "qFRUZ3ERPyI2",
        "colab_type": "code",
        "colab": {}
      },
      "source": [
        "# Run it only once to mount the google drive\n",
        "\n",
        "from google.colab import drive\n",
        "drive.mount('/content/drive')"
      ],
      "execution_count": null,
      "outputs": []
    },
    {
      "cell_type": "code",
      "metadata": {
        "id": "i_8wCqIMQs0g",
        "colab_type": "code",
        "colab": {}
      },
      "source": [
        "# Upload output.txt file which contains the scored dose\n",
        "# Make sure you use a unique file name especially when you upload an updated file. \n",
        "# It saves all files - doesn't overwrite it.\n",
        "\n",
        "from google.colab import files\n",
        "uploaded = files.upload()\n",
        "\n",
        "print(uploaded)"
      ],
      "execution_count": null,
      "outputs": []
    },
    {
      "cell_type": "code",
      "metadata": {
        "id": "PJFLNpudSmzc",
        "colab_type": "code",
        "colab": {}
      },
      "source": [
        "# Read output file from the EGSnrc program \"Summary of region dosimetry per particle\"\n",
        "# Save the output file as \"output.txt\"\n",
        "\n",
        "dicRow = {}\n",
        "DoseTable = []\n",
        "\n",
        "objFile = open('output07172020.txt','r')\n",
        "for row in objFile:\n",
        "  lstRow = row.split()\n",
        "  dicRow = {\"ir\": int(lstRow[0]), \"Dose Scored\": float(lstRow[8])}\n",
        "  DoseTable.append(dicRow)\n",
        "objFile.close()\n"
      ],
      "execution_count": 13,
      "outputs": []
    },
    {
      "cell_type": "code",
      "metadata": {
        "id": "HGs4AtYJ5E3E",
        "colab_type": "code",
        "colab": {}
      },
      "source": [
        "# Get user input for the location of the corresponding ir in order (from top to bottom in the output file)\n",
        "Location = []\n",
        "for each in DoseTable:\n",
        "  EachLocation = float(input(\"Enter the location in mm for each ir \"))\n",
        "  Location.append(EachLocation)\n",
        "\n",
        "normIndex = Location.index(2)\n"
      ],
      "execution_count": null,
      "outputs": []
    },
    {
      "cell_type": "code",
      "metadata": {
        "id": "fgPA2BsZ1JpB",
        "colab_type": "code",
        "colab": {}
      },
      "source": [
        "# Normalize the dose such that Dose @ 2mm = 100%\n",
        "normDose = DoseTable[normIndex]['Dose Scored']\n",
        "\n",
        "normDoseTable = []\n",
        "for each in DoseTable:\n",
        "  normDoseEach = (each['Dose Scored']/normDose)*100\n",
        "  normDoseTable.append(normDoseEach)"
      ],
      "execution_count": 30,
      "outputs": []
    },
    {
      "cell_type": "code",
      "metadata": {
        "id": "4MicSiNn2XFe",
        "colab_type": "code",
        "colab": {
          "base_uri": "https://localhost:8080/",
          "height": 271
        },
        "outputId": "05605119-4310-453b-dba9-614b91fec3af"
      },
      "source": [
        "# Plot normDoseTable (y-axis) vs. Location (x-axis)\n",
        "indices = [i for i in range(len(normDoseTable)) if normDoseTable[i]>400] \n",
        "LocationPlot = list(Location)\n",
        "normDoseTablePlot = list(normDoseTable)\n",
        "if indices:\n",
        "  for each in indices:\n",
        "    del LocationPlot[each]\n",
        "    del normDoseTablePlot[each]\n",
        "    indices[:] = [number-1 for number in indices]  \n",
        "\n",
        "# Published PDD for Sr-90\n",
        "xaxis = np.linspace(0.75, 6.0, 22, endpoint = True, retstep = False, dtype = None, axis =0 )\n",
        "yaxis = [370, 261, 196, 155, 121, 100, 81.3, 67.1, 53.8, 45.6, 38.5, 31.6, 25.8, 20.9, 17.4, 14.2, 11.3, 9.2, 7.22, 5.83, 4.42, 3.54]\n",
        "\n",
        "plt.plot(LocationPlot, normDoseTablePlot, 'o', color='blue')\n",
        "plt.plot(xaxis, yaxis, color='red')\n",
        "plt.show()\n"
      ],
      "execution_count": 53,
      "outputs": [
        {
          "output_type": "display_data",
          "data": {
            "image/png": "[encoded data removed]",
            "text/plain": [
              "<Figure size 432x288 with 1 Axes>"
            ]
          },
          "metadata": {
            "tags": [],
            "needs_background": "light"
          }
        }
      ]
    }
  ]
}