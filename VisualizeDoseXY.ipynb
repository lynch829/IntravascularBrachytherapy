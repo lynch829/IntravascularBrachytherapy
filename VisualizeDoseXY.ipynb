{
  "nbformat": 4,
  "nbformat_minor": 0,
  "metadata": {
    "colab": {
      "name": "VisualizeDoseXY.ipynb",
      "provenance": [],
      "authorship_tag": "ABX9TyMmaSkcRe8qbBT+FJWuz5RO",
      "include_colab_link": true
    },
    "kernelspec": {
      "name": "python3",
      "display_name": "Python 3"
    }
  },
  "cells": [
    {
      "cell_type": "markdown",
      "metadata": {
        "id": "view-in-github",
        "colab_type": "text"
      },
      "source": [
        "<a href=\"https://colab.research.google.com/github/mk688/IntravascularBrachytherapy/blob/master/VisualizeDoseXY.ipynb\" target=\"_parent\"><img src=\"https://colab.research.google.com/assets/colab-badge.svg\" alt=\"Open In Colab\"/></a>"
      ]
    },
    {
      "cell_type": "markdown",
      "metadata": {
        "id": "G013Rl3hMqep",
        "colab_type": "text"
      },
      "source": [
        "Visualize the dose scored from EGSnrc.\n",
        "Location is fixed from -6 to 6 and the last row should be Air. \n",
        "The input file has to have the regions in the same order as specified in Location."
      ]
    },
    {
      "cell_type": "code",
      "metadata": {
        "id": "RQBwRvdS5G2z",
        "colab_type": "code",
        "colab": {}
      },
      "source": [
        "import matplotlib.pyplot as plt\n",
        "plt.style.use('seaborn-white')\n",
        "import numpy as np\n",
        "import pandas as pd\n",
        "import seaborn as sns\n",
        "sns.set(color_codes=True, font_scale=1.2)\n",
        "import pandas.util.testing as tm"
      ],
      "execution_count": 2,
      "outputs": []
    },
    {
      "cell_type": "code",
      "metadata": {
        "id": "i_8wCqIMQs0g",
        "colab_type": "code",
        "colab": {
          "resources": {
            "http://localhost:8080/nbextensions/google.colab/files.js": {
              "data": "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",
              "ok": true,
              "headers": [
                [
                  "content-type",
                  "application/javascript"
                ]
              ],
              "status": 200,
              "status_text": ""
            }
          },
          "base_uri": "https://localhost:8080/",
          "height": 109
        },
        "outputId": "9779a349-8638-44f9-ecf9-228b60cd6e21"
      },
      "source": [
        "# Upload output.txt file which contains the scored dose\n",
        "# Make sure you use a unique file name especially when you upload an updated file. \n",
        "# It saves all files - doesn't overwrite it.\n",
        "\n",
        "from google.colab import files\n",
        "uploaded = files.upload()\n",
        "\n",
        "print(uploaded)"
      ],
      "execution_count": 36,
      "outputs": [
        {
          "output_type": "display_data",
          "data": {
            "text/html": [
              "\n",
              "     <input type=\"file\" id=\"files-3dc5563e-aed5-4d92-81a4-cd8219a58204\" name=\"files[]\" multiple disabled\n",
              "        style=\"border:none\" />\n",
              "     <output id=\"result-3dc5563e-aed5-4d92-81a4-cd8219a58204\">\n",
              "      Upload widget is only available when the cell has been executed in the\n",
              "      current browser session. Please rerun this cell to enable.\n",
              "      </output>\n",
              "      <script src=\"/nbextensions/google.colab/files.js\"></script> "
            ],
            "text/plain": [
              "<IPython.core.display.HTML object>"
            ]
          },
          "metadata": {
            "tags": []
          }
        },
        {
          "output_type": "stream",
          "text": [
            "Saving IVBX1mm.txt to IVBX1mm.txt\n",
            "{'IVBX1mm.txt': b'388 H2O521ICRU     1.000     0.0000 6.9619e-008 +/- 7.520  % 1.3941e-012 +/- 7.520  %\\r\\n390 H2O521ICRU     1.000     0.0000 8.3436e-008 +/- 6.645  % 1.6708e-012 +/- 6.645  %\\r\\n392 H2O521ICRU     1.000     0.0000 9.6124e-008 +/- 6.011  % 1.9249e-012 +/- 6.011  %\\r\\n394 H2O521ICRU     1.000     0.0000 1.2211e-007 +/- 5.580  % 2.4452e-012 +/- 5.580  %\\r\\n396 H2O521ICRU     1.000     0.0000 1.5756e-007 +/- 4.926  % 3.1550e-012 +/- 4.926  %\\r\\n398 H2O521ICRU     1.000     0.0000 1.9162e-007 +/- 4.243  % 3.8372e-012 +/- 4.243  %\\r\\n400 H2O521ICRU     1.000     0.0000 2.3972e-007 +/- 3.834  % 4.8004e-012 +/- 3.834  %\\r\\n402 H2O521ICRU     1.000     0.0000 2.8003e-007 +/- 3.568  % 5.6076e-012 +/- 3.568  %\\r\\n404 H2O521ICRU     1.000     0.0000 3.3867e-007 +/- 3.228  % 6.7818e-012 +/- 3.228  %\\r\\n406 H2O521ICRU     1.000     0.0000 4.0557e-007 +/- 2.992  % 8.1215e-012 +/- 2.992  %\\r\\n408 H2O521ICRU     1.000     0.0000 4.7509e-007 +/- 2.690  % 9.5137e-012 +/- 2.690  %\\r\\n410 H2O521ICRU     1.000     0.0000 5.8427e-007 +/- 2.444  % 1.1700e-011 +/- 2.444  %\\r\\n412 H2O521ICRU     1.000     0.0000 6.4708e-007 +/- 2.312  % 1.2958e-011 +/- 2.312  %\\r\\n414 H2O521ICRU     1.000     0.0000 7.9634e-007 +/- 2.117  % 1.5947e-011 +/- 2.117  %\\r\\n416 H2O521ICRU     1.000     0.0000 9.3968e-007 +/- 1.949  % 1.8817e-011 +/- 1.949  %\\r\\n418 H2O521ICRU     1.000     0.0000 1.0989e-006 +/- 1.753  % 2.2005e-011 +/- 1.753  %\\r\\n420 H2O521ICRU     1.000     0.0000 1.3012e-006 +/- 1.638  % 2.6056e-011 +/- 1.638  %\\r\\n422 H2O521ICRU     1.000     0.0000 1.5306e-006 +/- 1.479  % 3.0649e-011 +/- 1.479  %\\r\\n424 H2O521ICRU     1.000     0.0000 1.8312e-006 +/- 1.355  % 3.6669e-011 +/- 1.355  %\\r\\n426 H2O521ICRU     1.000     0.0000 2.1516e-006 +/- 1.226  % 4.3085e-011 +/- 1.226  %\\r\\n428 H2O521ICRU     1.000     0.0000 2.6363e-006 +/- 1.132  % 5.2793e-011 +/- 1.132  %\\r\\n430 H2O521ICRU     1.000     0.0000 3.1440e-006 +/- 1.035  % 6.2959e-011 +/- 1.035  %\\r\\n432 H2O521ICRU     1.000     0.0000 7.6918e-007 +/- 1.566  % 7.7014e-011 +/- 1.566  %\\r\\n434 H2O521ICRU     1.000     0.0000 4.2737e-006 +/- 0.903  % 8.5581e-011 +/- 0.903  %\\r\\n436 H2O521ICRU     1.000     0.0000 4.3993e-006 +/- 0.884  % 8.8095e-011 +/- 0.884  %\\r\\n438 H2O521ICRU     1.000     0.0000 4.2182e-006 +/- 0.902  % 8.4469e-011 +/- 0.902  %\\r\\n440 H2O521ICRU     1.000     0.0000 7.6574e-007 +/- 1.576  % 7.6669e-011 +/- 1.576  %\\r\\n442 H2O521ICRU     1.000     0.0000 3.2197e-006 +/- 1.030  % 6.4475e-011 +/- 1.030  %\\r\\n444 H2O521ICRU     1.000     0.0000 2.6474e-006 +/- 1.138  % 5.3014e-011 +/- 1.138  %\\r\\n446 H2O521ICRU     1.000     0.0000 2.1889e-006 +/- 1.238  % 4.3833e-011 +/- 1.238  %\\r\\n448 H2O521ICRU     1.000     0.0000 1.8053e-006 +/- 1.345  % 3.6152e-011 +/- 1.345  %\\r\\n450 H2O521ICRU     1.000     0.0000 1.5179e-006 +/- 1.482  % 3.0395e-011 +/- 1.482  %\\r\\n452 H2O521ICRU     1.000     0.0000 1.3519e-006 +/- 1.593  % 2.7072e-011 +/- 1.593  %\\r\\n454 H2O521ICRU     1.000     0.0000 1.1290e-006 +/- 1.754  % 2.2609e-011 +/- 1.754  %\\r\\n456 H2O521ICRU     1.000     0.0000 9.2653e-007 +/- 1.896  % 1.8554e-011 +/- 1.896  %\\r\\n458 H2O521ICRU     1.000     0.0000 8.1369e-007 +/- 2.071  % 1.6294e-011 +/- 2.071  %\\r\\n460 H2O521ICRU     1.000     0.0000 6.5604e-007 +/- 2.277  % 1.3137e-011 +/- 2.277  %\\r\\n462 H2O521ICRU     1.000     0.0000 5.7666e-007 +/- 2.474  % 1.1548e-011 +/- 2.474  %\\r\\n464 H2O521ICRU     1.000     0.0000 4.9474e-007 +/- 2.676  % 9.9071e-012 +/- 2.676  %\\r\\n466 H2O521ICRU     1.000     0.0000 4.0754e-007 +/- 2.966  % 8.1609e-012 +/- 2.966  %\\r\\n468 H2O521ICRU     1.000     0.0000 3.2493e-007 +/- 3.230  % 6.5067e-012 +/- 3.230  %\\r\\n470 H2O521ICRU     1.000     0.0000 2.8926e-007 +/- 3.548  % 5.7924e-012 +/- 3.548  %\\r\\n472 H2O521ICRU     1.000     0.0000 2.2709e-007 +/- 3.948  % 4.5475e-012 +/- 3.948  %\\r\\n474 H2O521ICRU     1.000     0.0000 1.7999e-007 +/- 4.601  % 3.6043e-012 +/- 4.601  %\\r\\n476 H2O521ICRU     1.000     0.0000 1.4702e-007 +/- 4.833  % 2.9441e-012 +/- 4.833  %\\r\\n478 H2O521ICRU     1.000     0.0000 1.2665e-007 +/- 5.224  % 2.5362e-012 +/- 5.224  %\\r\\n480 H2O521ICRU     1.000     0.0000 1.1010e-007 +/- 6.178  % 2.2048e-012 +/- 6.178  %\\r\\n482 H2O521ICRU     1.000     0.0000 7.5031e-008 +/- 6.968  % 1.5025e-012 +/- 6.968  %\\r\\n484 H2O521ICRU     1.000     0.0000 6.1783e-008 +/- 8.085  % 1.2372e-012 +/- 8.085  %'}\n"
          ],
          "name": "stdout"
        }
      ]
    },
    {
      "cell_type": "code",
      "metadata": {
        "id": "PJFLNpudSmzc",
        "colab_type": "code",
        "colab": {}
      },
      "source": [
        "# Read output file from the EGSnrc program \"Summary of region dosimetry per particle\"\n",
        "# Make sure to modify the name of objFile to match with your output file.\n",
        "\n",
        "dicRow = {}\n",
        "DoseTable = []\n",
        "\n",
        "objFile = open('IVBX1mm.txt','r')\n",
        "for row in objFile:\n",
        "  lstRow = row.split()\n",
        "  dicRow = {\"ir\": int(lstRow[0]), \"Dose Scored\": float(lstRow[8])}\n",
        "  DoseTable.append(dicRow)\n",
        "objFile.close()\n"
      ],
      "execution_count": 37,
      "outputs": []
    },
    {
      "cell_type": "markdown",
      "metadata": {
        "id": "BqnwryGkoiBF",
        "colab_type": "text"
      },
      "source": [
        "Run the following cell with the fixed Location only with the simulation output with the source at the center.  normDose should be defined with the dose scored at 2 mm when the source is positioned at the center"
      ]
    },
    {
      "cell_type": "code",
      "metadata": {
        "id": "HGs4AtYJ5E3E",
        "colab_type": "code",
        "colab": {}
      },
      "source": [
        "# RUN THIS CELL ONLY ONCE with the source at the center in Y axis.\n",
        "# Location is fixed from -6 to 6 with an increment of 0.25\n",
        "\n",
        "Location = np.arange(-6, 6.25, 0.25).tolist()\n",
        "normIndex = Location.index(2)\n",
        "\n",
        "# Normalize the dose such that Dose @ 2mm = 100%\n",
        "normDose = DoseTable[normIndex]['Dose Scored']"
      ],
      "execution_count": 10,
      "outputs": []
    },
    {
      "cell_type": "code",
      "metadata": {
        "id": "fgPA2BsZ1JpB",
        "colab_type": "code",
        "colab": {}
      },
      "source": [
        "# Normalize the dose based on the prescription dose (normDose) at 2mm with the assumption that the source is centered.\n",
        "\n",
        "normDoseTable = []\n",
        "for each in DoseTable:\n",
        "  normDoseEach = (each['Dose Scored']/normDose)*100\n",
        "  normDoseTable.append(normDoseEach)"
      ],
      "execution_count": 38,
      "outputs": []
    },
    {
      "cell_type": "code",
      "metadata": {
        "id": "4MicSiNn2XFe",
        "colab_type": "code",
        "colab": {}
      },
      "source": [
        "# Preparation for the plots\n",
        "# Plot normDoseTable (y-axis) vs. Location (x-axis)\n",
        "indices = [i for i in range(len(normDoseTable)) if normDoseTable[i]>400 or normDoseTable[i]<1] \n",
        "LocationPlot = list(Location)\n",
        "normDoseTablePlot = list(normDoseTable)\n",
        "if indices:\n",
        "  for each in indices:\n",
        "    del LocationPlot[each]\n",
        "    del normDoseTablePlot[each]\n",
        "    indices[:] = [number-1 for number in indices]  \n"
      ],
      "execution_count": 39,
      "outputs": []
    },
    {
      "cell_type": "code",
      "metadata": {
        "id": "QRtVtEb-iHgn",
        "colab_type": "code",
        "colab": {
          "base_uri": "https://localhost:8080/",
          "height": 34
        },
        "outputId": "6d5a41ad-743c-4150-aa9c-db9a086d0b86"
      },
      "source": [
        "# Specify the source position\n",
        "sourcep = float(input('Enter the source position: '))"
      ],
      "execution_count": 40,
      "outputs": [
        {
          "output_type": "stream",
          "text": [
            "Enter the source position: 1\n"
          ],
          "name": "stdout"
        }
      ]
    },
    {
      "cell_type": "code",
      "metadata": {
        "id": "ktzSor3z336g",
        "colab_type": "code",
        "colab": {
          "base_uri": "https://localhost:8080/",
          "height": 289
        },
        "outputId": "9dbe9f9b-e744-4c8e-89a7-8730095c0c9a"
      },
      "source": [
        "# Published PDD for Sr-90\n",
        "xaxis1 = np.linspace(0.75, 6.0, 22, endpoint = True, retstep = False, dtype = None, axis =0 )\n",
        "xaxis2 = np.linspace(-0.75, -6.0, 22, endpoint = True, retstep = False, dtype = None, axis =0 )\n",
        "yaxis = [370, 261, 196, 155, 121, 100, 81.3, 67.1, 53.8, 45.6, 38.5, 31.6, 25.8, 20.9, 17.4, 14.2, 11.3, 9.2, 7.22, 5.83, 4.42, 3.54]\n",
        "\n",
        "plt.plot(LocationPlot, normDoseTablePlot, 'o', color='blue')\n",
        "plt.plot(xaxis1, yaxis, color='red')\n",
        "plt.plot(xaxis2, yaxis, color='red')\n",
        "plt.xlabel('Distance in mm')\n",
        "plt.ylabel('Normalized dose (%)')\n",
        "plt.grid(b=True, which='minor', alpha = 10, color='0.65', linestyle='-')\n",
        "plt.plot([sourcep, sourcep], [0,350], color='black') # Source position\n",
        "plt.show()"
      ],
      "execution_count": 41,
      "outputs": [
        {
          "output_type": "display_data",
          "data": {
            "image/png": "[encoded data removed]",
            "text/plain": [
              "<Figure size 432x288 with 1 Axes>"
            ]
          },
          "metadata": {
            "tags": []
          }
        }
      ]
    }
  ]
}