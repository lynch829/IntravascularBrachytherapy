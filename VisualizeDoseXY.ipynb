{
  "nbformat": 4,
  "nbformat_minor": 0,
  "metadata": {
    "colab": {
      "name": "ContourVisualizeDoseXY.ipynb",
      "provenance": [],
      "authorship_tag": "ABX9TyN2Bi09TeugGlBKIe3AdN6Q",
      "include_colab_link": true
    },
    "kernelspec": {
      "name": "python3",
      "display_name": "Python 3"
    }
  },
  "cells": [
    {
      "cell_type": "markdown",
      "metadata": {
        "id": "view-in-github",
        "colab_type": "text"
      },
      "source": [
        "<a href=\"https://colab.research.google.com/github/mk688/IntravascularBrachytherapy/blob/master/VisualizeDoseXY.ipynb\" target=\"_parent\"><img src=\"https://colab.research.google.com/assets/colab-badge.svg\" alt=\"Open In Colab\"/></a>"
      ]
    },
    {
      "cell_type": "markdown",
      "metadata": {
        "id": "G013Rl3hMqep",
        "colab_type": "text"
      },
      "source": [
        "Visualize the dose scored from EGSnrc.\n",
        "Location is fixed from -6 to 6 and the last row should be Air. \n",
        "The input file has to have the regions in the same order as specified in Location."
      ]
    },
    {
      "cell_type": "code",
      "metadata": {
        "id": "RQBwRvdS5G2z",
        "colab_type": "code",
        "colab": {
          "base_uri": "https://localhost:8080/",
          "height": 51
        },
        "outputId": "9688fc43-8941-4aa3-96a4-2d8b72e29a84"
      },
      "source": [
        "import matplotlib.pyplot as plt\n",
        "plt.style.use('seaborn-white')\n",
        "import numpy as np\n",
        "import pandas as pd\n",
        "import seaborn as sns\n",
        "sns.set(color_codes=True, font_scale=1.2)\n",
        "import pandas.util.testing as tm"
      ],
      "execution_count": 3,
      "outputs": [
        {
          "output_type": "stream",
          "text": [
            "/usr/local/lib/python3.6/dist-packages/statsmodels/tools/_testing.py:19: FutureWarning: pandas.util.testing is deprecated. Use the functions in the public API at pandas.testing instead.\n",
            "  import pandas.util.testing as tm\n"
          ],
          "name": "stderr"
        }
      ]
    },
    {
      "cell_type": "code",
      "metadata": {
        "id": "i_8wCqIMQs0g",
        "colab_type": "code",
        "colab": {
          "resources": {
            "http://localhost:8080/nbextensions/google.colab/files.js": {
              "data": "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",
              "ok": true,
              "headers": [
                [
                  "content-type",
                  "application/javascript"
                ]
              ],
              "status": 200,
              "status_text": ""
            }
          },
          "base_uri": "https://localhost:8080/",
          "height": 109
        },
        "outputId": "0be1a961-eec8-4ef9-fdc8-a50569542b3f"
      },
      "source": [
        "# Upload output.txt file which contains the scored dose\n",
        "# Make sure you use a unique file name especially when you upload an updated file. \n",
        "# It saves all files - doesn't overwrite it.\n",
        "\n",
        "from google.colab import files\n",
        "uploaded = files.upload()\n",
        "\n",
        "print(uploaded)"
      ],
      "execution_count": 11,
      "outputs": [
        {
          "output_type": "display_data",
          "data": {
            "text/html": [
              "\n",
              "     <input type=\"file\" id=\"files-e1a29896-9efd-459e-8793-0ddbb0dbf9a1\" name=\"files[]\" multiple disabled\n",
              "        style=\"border:none\" />\n",
              "     <output id=\"result-e1a29896-9efd-459e-8793-0ddbb0dbf9a1\">\n",
              "      Upload widget is only available when the cell has been executed in the\n",
              "      current browser session. Please rerun this cell to enable.\n",
              "      </output>\n",
              "      <script src=\"/nbextensions/google.colab/files.js\"></script> "
            ],
            "text/plain": [
              "<IPython.core.display.HTML object>"
            ]
          },
          "metadata": {
            "tags": []
          }
        },
        {
          "output_type": "stream",
          "text": [
            "Saving Stent175mm.txt to Stent175mm (1).txt\n",
            "{'Stent175mm.txt': b'292 H2O521ICRU     1.000     0.0000 2.6801e-008 +/- 11.276 % 5.3668e-013 +/- 11.276 %\\r\\n298 H2O521ICRU     1.000     0.0000 4.2814e-008 +/- 9.532  % 8.5735e-013 +/- 9.532  %\\r\\n304 H2O521ICRU     1.000     0.0000 5.5779e-008 +/- 7.944  % 1.1170e-012 +/- 7.944  %\\r\\n310 H2O521ICRU     1.000     0.0000 7.5838e-008 +/- 7.393  % 1.5187e-012 +/- 7.393  %\\r\\n316 H2O521ICRU     1.000     0.0000 8.4491e-008 +/- 6.372  % 1.6919e-012 +/- 6.372  %\\r\\n322 H2O521ICRU     1.000     0.0000 1.1352e-007 +/- 5.952  % 2.2731e-012 +/- 5.952  %\\r\\n328 H2O521ICRU     1.000     0.0000 1.5039e-007 +/- 4.892  % 3.0115e-012 +/- 4.892  %\\r\\n334 H2O521ICRU     1.000     0.0000 1.7907e-007 +/- 4.610  % 3.5859e-012 +/- 4.610  %\\r\\n340 H2O521ICRU     1.000     0.0000 2.2702e-007 +/- 4.091  % 4.5462e-012 +/- 4.091  %\\r\\n346 H2O521ICRU     1.000     0.0000 2.6656e-007 +/- 3.791  % 5.3379e-012 +/- 3.791  %\\r\\n352 H2O521ICRU     1.000     0.0000 3.0524e-007 +/- 3.437  % 6.1125e-012 +/- 3.437  %\\r\\n358 H2O521ICRU     1.000     0.0000 3.7298e-007 +/- 3.010  % 7.4689e-012 +/- 3.010  %\\r\\n364 H2O521ICRU     1.000     0.0000 4.3756e-007 +/- 2.816  % 8.7621e-012 +/- 2.816  %\\r\\n370 H2O521ICRU     1.000     0.0000 5.5050e-007 +/- 2.476  % 1.1024e-011 +/- 2.476  %\\r\\n376 H2O521ICRU     1.000     0.0000 6.6956e-007 +/- 2.241  % 1.3408e-011 +/- 2.241  %\\r\\n382 H2O521ICRU     1.000     0.0000 8.0397e-007 +/- 2.049  % 1.6099e-011 +/- 2.049  %\\r\\n388 H2O521ICRU     1.000     0.0000 9.5553e-007 +/- 1.857  % 1.9135e-011 +/- 1.857  %\\r\\n394 STEEL521ICRU   8.060     0.0000 7.9413e-006 +/- 1.432  % 2.9230e-011 +/- 1.432  %\\r\\n400 H2O521ICRU     1.000     0.0000 2.8935e-006 +/- 1.112  % 5.7942e-011 +/- 1.112  %\\r\\n406 H2O521ICRU     1.000     0.0000 3.4934e-006 +/- 0.997  % 6.9956e-011 +/- 0.997  %\\r\\n412 H2O521ICRU     1.000     0.0000 4.6621e-006 +/- 0.874  % 9.3358e-011 +/- 0.874  %\\r\\n418 H2O521ICRU     1.000     0.0000 7.0902e-006 +/- 0.714  % 1.4198e-010 +/- 0.714  %\\r\\n424 H2O521ICRU     1.000     0.0000 2.5535e-006 +/- 0.832  % 2.5567e-010 +/- 0.832  %\\r\\n430 H2O521ICRU     1.000     0.0000 0.0000e+000 +/- 100.0  % 0.0000e+000 +/- 100.0  %\\r\\n436 H2O521ICRU     1.000     0.0000 0.0000e+000 +/- 100.0  % 0.0000e+000 +/- 100.0  %\\r\\n442 H2O521ICRU     1.000     0.0000 0.0000e+000 +/- 100.0  % 0.0000e+000 +/- 100.0  %\\r\\n448 H2O521ICRU     1.000     0.0000 2.5753e-006 +/- 0.825  % 2.5785e-010 +/- 0.825  %\\r\\n454 H2O521ICRU     1.000     0.0000 7.0886e-006 +/- 0.715  % 1.4195e-010 +/- 0.715  %\\r\\n460 H2O521ICRU     1.000     0.0000 4.6336e-006 +/- 0.874  % 9.2788e-011 +/- 0.874  %\\r\\n466 H2O521ICRU     1.000     0.0000 3.5712e-006 +/- 0.992  % 7.1514e-011 +/- 0.992  %\\r\\n472 H2O521ICRU     1.000     0.0000 2.9262e-006 +/- 1.096  % 5.8597e-011 +/- 1.096  %\\r\\n478 STEEL521ICRU   8.060     0.0000 8.0527e-006 +/- 1.434  % 2.9640e-011 +/- 1.434  %\\r\\n484 H2O521ICRU     1.000     0.0000 9.8427e-007 +/- 1.822  % 1.9710e-011 +/- 1.822  %\\r\\n490 H2O521ICRU     1.000     0.0000 8.2737e-007 +/- 2.035  % 1.6568e-011 +/- 2.035  %\\r\\n496 H2O521ICRU     1.000     0.0000 6.5011e-007 +/- 2.295  % 1.3018e-011 +/- 2.295  %\\r\\n502 H2O521ICRU     1.000     0.0000 5.3914e-007 +/- 2.485  % 1.0796e-011 +/- 2.485  %\\r\\n508 H2O521ICRU     1.000     0.0000 4.6444e-007 +/- 2.775  % 9.3004e-012 +/- 2.775  %\\r\\n514 H2O521ICRU     1.000     0.0000 3.8327e-007 +/- 3.020  % 7.6749e-012 +/- 3.020  %\\r\\n520 H2O521ICRU     1.000     0.0000 3.0984e-007 +/- 3.384  % 6.2046e-012 +/- 3.384  %\\r\\n526 H2O521ICRU     1.000     0.0000 2.5868e-007 +/- 3.643  % 5.1801e-012 +/- 3.643  %\\r\\n532 H2O521ICRU     1.000     0.0000 2.0718e-007 +/- 4.263  % 4.1487e-012 +/- 4.263  %\\r\\n538 H2O521ICRU     1.000     0.0000 1.6923e-007 +/- 4.635  % 3.3888e-012 +/- 4.635  %\\r\\n544 H2O521ICRU     1.000     0.0000 1.5138e-007 +/- 5.036  % 3.0314e-012 +/- 5.036  %\\r\\n550 H2O521ICRU     1.000     0.0000 1.1786e-007 +/- 5.700  % 2.3602e-012 +/- 5.700  %\\r\\n556 H2O521ICRU     1.000     0.0000 1.0558e-007 +/- 6.358  % 2.1143e-012 +/- 6.358  %\\r\\n562 H2O521ICRU     1.000     0.0000 7.0858e-008 +/- 6.876  % 1.4189e-012 +/- 6.876  %\\r\\n568 H2O521ICRU     1.000     0.0000 6.1151e-008 +/- 7.770  % 1.2245e-012 +/- 7.770  %\\r\\n574 H2O521ICRU     1.000     0.0000 3.9539e-008 +/- 9.225  % 7.9177e-013 +/- 9.225  %\\r\\n580 H2O521ICRU     1.000     0.0000 2.8864e-008 +/- 10.72  % 5.7799e-013 +/- 10.72  %'}\n"
          ],
          "name": "stdout"
        }
      ]
    },
    {
      "cell_type": "code",
      "metadata": {
        "id": "PJFLNpudSmzc",
        "colab_type": "code",
        "colab": {}
      },
      "source": [
        "# Read output file from the EGSnrc program \"Summary of region dosimetry per particle\"\n",
        "# Make sure to modify the name of objFile to match with your output file.\n",
        "\n",
        "dicRow = {}\n",
        "DoseTable = []\n",
        "\n",
        "objFile = open('Stent175mm.txt','r')\n",
        "for row in objFile:\n",
        "  lstRow = row.split()\n",
        "  dicRow = {\"ir\": int(lstRow[0]), \"Dose Scored\": float(lstRow[8])}\n",
        "  DoseTable.append(dicRow)\n",
        "objFile.close()\n"
      ],
      "execution_count": 12,
      "outputs": []
    },
    {
      "cell_type": "markdown",
      "metadata": {
        "id": "BqnwryGkoiBF",
        "colab_type": "text"
      },
      "source": [
        "Run the following cell with the fixed Location only with the simulation output with the source at the center.  normDose should be defined with the dose scored at 2 mm when the source is positioned at the center"
      ]
    },
    {
      "cell_type": "code",
      "metadata": {
        "id": "HGs4AtYJ5E3E",
        "colab_type": "code",
        "colab": {}
      },
      "source": [
        "# RUN THIS CELL ONLY ONCE with the source at the center in Y axis.\n",
        "# Location is fixed from -6 to 6 with an increment of 0.25\n",
        "\n",
        "Location = np.arange(-6, 6.25, 0.25).tolist()\n",
        "normIndex = Location.index(2)\n",
        "\n",
        "# Normalize the dose such that Dose @ 2mm = 100%\n",
        "normDose = DoseTable[normIndex]['Dose Scored']"
      ],
      "execution_count": 6,
      "outputs": []
    },
    {
      "cell_type": "code",
      "metadata": {
        "id": "fgPA2BsZ1JpB",
        "colab_type": "code",
        "colab": {}
      },
      "source": [
        "# Normalize the dose based on the prescription dose (normDose) at 2mm with the assumption that the source is centered.\n",
        "\n",
        "normDoseTable = []\n",
        "for each in DoseTable:\n",
        "  normDoseEach = (each['Dose Scored']/normDose)*100\n",
        "  normDoseTable.append(normDoseEach)"
      ],
      "execution_count": 13,
      "outputs": []
    },
    {
      "cell_type": "code",
      "metadata": {
        "id": "4MicSiNn2XFe",
        "colab_type": "code",
        "colab": {}
      },
      "source": [
        "# Preparation for the plots\n",
        "# Plot normDoseTable (y-axis) vs. Location (x-axis)\n",
        "indices = [i for i in range(len(normDoseTable)) if normDoseTable[i]>400 or normDoseTable[i]<1] \n",
        "LocationPlot = list(Location)\n",
        "normDoseTablePlot = list(normDoseTable)\n",
        "if indices:\n",
        "  for each in indices:\n",
        "    del LocationPlot[each]\n",
        "    del normDoseTablePlot[each]\n",
        "    indices[:] = [number-1 for number in indices]  \n"
      ],
      "execution_count": 14,
      "outputs": []
    },
    {
      "cell_type": "code",
      "metadata": {
        "id": "QRtVtEb-iHgn",
        "colab_type": "code",
        "colab": {}
      },
      "source": [
        "# Specify the source position\n",
        "sourcep = float(input('Enter the source position: '))"
      ],
      "execution_count": null,
      "outputs": []
    },
    {
      "cell_type": "code",
      "metadata": {
        "id": "BgMTW0fmVtNp",
        "colab_type": "code",
        "colab": {}
      },
      "source": [
        "stentp = float(input('Enter the stent location: '))"
      ],
      "execution_count": null,
      "outputs": []
    },
    {
      "cell_type": "code",
      "metadata": {
        "id": "ktzSor3z336g",
        "colab_type": "code",
        "colab": {
          "base_uri": "https://localhost:8080/",
          "height": 289
        },
        "outputId": "a10daa61-63d3-419e-fa59-b0f41444c384"
      },
      "source": [
        "# Published PDD for Sr-90\n",
        "xaxis1 = np.linspace(0.75, 6.0, 22, endpoint = True, retstep = False, dtype = None, axis =0 )\n",
        "xaxis2 = np.linspace(-0.75, -6.0, 22, endpoint = True, retstep = False, dtype = None, axis =0 )\n",
        "yaxis = [370, 261, 196, 155, 121, 100, 81.3, 67.1, 53.8, 45.6, 38.5, 31.6, 25.8, 20.9, 17.4, 14.2, 11.3, 9.2, 7.22, 5.83, 4.42, 3.54]\n",
        "\n",
        "plt.plot(LocationPlot, normDoseTablePlot, 'o', color='blue')\n",
        "plt.plot(xaxis1, yaxis, color='red')\n",
        "plt.plot(xaxis2, yaxis, color='red')\n",
        "plt.xlabel('Distance in mm')\n",
        "plt.ylabel('Normalized dose (%)')\n",
        "plt.grid(b=True, which='minor', alpha = 10, color='0.65', linestyle='-')\n",
        "plt.plot([sourcep, sourcep], [0,350], color='black') # Source position\n",
        "plt.plot([stentp, stentp], [0,350], color='grey') # Source position\n",
        "plt.plot([-stentp, -stentp], [0,350], color='grey') # Source position\n",
        "plt.show()"
      ],
      "execution_count": 19,
      "outputs": [
        {
          "output_type": "display_data",
          "data": {
            "image/png": "[encoded data removed]",
            "text/plain": [
              "<Figure size 432x288 with 1 Axes>"
            ]
          },
          "metadata": {
            "tags": []
          }
        }
      ]
    }
  ]
}