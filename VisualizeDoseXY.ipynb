{
  "nbformat": 4,
  "nbformat_minor": 0,
  "metadata": {
    "colab": {
      "name": "VisualizeDoseXY.ipynb",
      "provenance": [],
      "authorship_tag": "ABX9TyNe5MWp3S5NrJN7K36rzrt/",
      "include_colab_link": true
    },
    "kernelspec": {
      "name": "python3",
      "display_name": "Python 3"
    }
  },
  "cells": [
    {
      "cell_type": "markdown",
      "metadata": {
        "id": "view-in-github",
        "colab_type": "text"
      },
      "source": [
        "<a href=\"https://colab.research.google.com/github/mk688/IntravascularBrachytherapy/blob/master/VisualizeDoseXY.ipynb\" target=\"_parent\"><img src=\"https://colab.research.google.com/assets/colab-badge.svg\" alt=\"Open In Colab\"/></a>"
      ]
    },
    {
      "cell_type": "markdown",
      "metadata": {
        "id": "G013Rl3hMqep",
        "colab_type": "text"
      },
      "source": [
        "Visualize the dose scored from EGSnrc.\n",
        "Location is fixed from -6 to 6 and the last row should be Air. \n",
        "The input file has to have the regions in the same order as specified in Location."
      ]
    },
    {
      "cell_type": "code",
      "metadata": {
        "id": "RQBwRvdS5G2z",
        "colab_type": "code",
        "colab": {
          "base_uri": "https://localhost:8080/",
          "height": 51
        },
        "outputId": "57cb5c20-1dc4-4375-b94f-b3b0f9ac3d14"
      },
      "source": [
        "import matplotlib.pyplot as plt\n",
        "plt.style.use('seaborn-white')\n",
        "import numpy as np\n",
        "import pandas as pd\n",
        "import seaborn as sns\n",
        "sns.set(color_codes=True, font_scale=1.2)\n",
        "import pandas.util.testing as tm"
      ],
      "execution_count": 1,
      "outputs": [
        {
          "output_type": "stream",
          "text": [
            "/usr/local/lib/python3.6/dist-packages/statsmodels/tools/_testing.py:19: FutureWarning: pandas.util.testing is deprecated. Use the functions in the public API at pandas.testing instead.\n",
            "  import pandas.util.testing as tm\n"
          ],
          "name": "stderr"
        }
      ]
    },
    {
      "cell_type": "code",
      "metadata": {
        "id": "i_8wCqIMQs0g",
        "colab_type": "code",
        "colab": {
          "resources": {
            "http://localhost:8080/nbextensions/google.colab/files.js": {
              "data": "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",
              "ok": true,
              "headers": [
                [
                  "content-type",
                  "application/javascript"
                ]
              ],
              "status": 200,
              "status_text": ""
            }
          },
          "base_uri": "https://localhost:8080/",
          "height": 109
        },
        "outputId": "bbca3901-0b62-451a-91c1-cd78adfa9fb7"
      },
      "source": [
        "# Upload output.txt file which contains the scored dose\n",
        "# Make sure you use a unique file name especially when you upload an updated file. \n",
        "# It saves all files - doesn't overwrite it.\n",
        "\n",
        "from google.colab import files\n",
        "uploaded = files.upload()\n",
        "\n",
        "print(uploaded)"
      ],
      "execution_count": 11,
      "outputs": [
        {
          "output_type": "display_data",
          "data": {
            "text/html": [
              "\n",
              "     <input type=\"file\" id=\"files-e4614526-b7fd-40c6-ab16-b8636d7049b6\" name=\"files[]\" multiple disabled\n",
              "        style=\"border:none\" />\n",
              "     <output id=\"result-e4614526-b7fd-40c6-ab16-b8636d7049b6\">\n",
              "      Upload widget is only available when the cell has been executed in the\n",
              "      current browser session. Please rerun this cell to enable.\n",
              "      </output>\n",
              "      <script src=\"/nbextensions/google.colab/files.js\"></script> "
            ],
            "text/plain": [
              "<IPython.core.display.HTML object>"
            ]
          },
          "metadata": {
            "tags": []
          }
        },
        {
          "output_type": "stream",
          "text": [
            "Saving Edge1mm.txt to Edge1mm.txt\n",
            "{'Edge1mm.txt': b'292 H2O521ICRU     1.000     0.0000 3.9058e-008 +/- 9.318  % 7.8214e-013 +/- 9.318  %\\r\\n298 H2O521ICRU     1.000     0.0000 5.4791e-008 +/- 8.460  % 1.0972e-012 +/- 8.460  %\\r\\n304 H2O521ICRU     1.000     0.0000 7.4508e-008 +/- 6.979  % 1.4920e-012 +/- 6.979  %\\r\\n310 H2O521ICRU     1.000     0.0000 8.0654e-008 +/- 6.752  % 1.6151e-012 +/- 6.752  %\\r\\n316 H2O521ICRU     1.000     0.0000 9.7453e-008 +/- 6.050  % 1.9515e-012 +/- 6.050  %\\r\\n322 H2O521ICRU     1.000     0.0000 1.2798e-007 +/- 5.262  % 2.5629e-012 +/- 5.262  %\\r\\n328 H2O521ICRU     1.000     0.0000 1.6945e-007 +/- 4.759  % 3.3933e-012 +/- 4.759  %\\r\\n334 H2O521ICRU     1.000     0.0000 1.9726e-007 +/- 4.306  % 3.9502e-012 +/- 4.306  %\\r\\n340 H2O521ICRU     1.000     0.0000 2.3527e-007 +/- 3.816  % 4.7114e-012 +/- 3.816  %\\r\\n346 H2O521ICRU     1.000     0.0000 2.9823e-007 +/- 3.480  % 5.9720e-012 +/- 3.480  %\\r\\n352 H2O521ICRU     1.000     0.0000 3.3330e-007 +/- 3.180  % 6.6744e-012 +/- 3.180  %\\r\\n358 H2O521ICRU     1.000     0.0000 4.3064e-007 +/- 2.904  % 8.6236e-012 +/- 2.904  %\\r\\n364 H2O521ICRU     1.000     0.0000 5.1645e-007 +/- 2.618  % 1.0342e-011 +/- 2.618  %\\r\\n370 H2O521ICRU     1.000     0.0000 6.1628e-007 +/- 2.360  % 1.2341e-011 +/- 2.360  %\\r\\n376 H2O521ICRU     1.000     0.0000 7.5933e-007 +/- 2.113  % 1.5205e-011 +/- 2.113  %\\r\\n382 H2O521ICRU     1.000     0.0000 9.0581e-007 +/- 1.928  % 1.8139e-011 +/- 1.928  %\\r\\n388 H2O521ICRU     1.000     0.0000 1.1513e-006 +/- 1.716  % 2.3055e-011 +/- 1.716  %\\r\\n394 H2O521ICRU     1.000     0.0000 1.4561e-006 +/- 1.515  % 2.9158e-011 +/- 1.515  %\\r\\n400 H2O521ICRU     1.000     0.0000 1.8688e-006 +/- 1.354  % 3.7422e-011 +/- 1.354  %\\r\\n406 H2O521ICRU     1.000     0.0000 2.5434e-006 +/- 1.166  % 5.0931e-011 +/- 1.166  %\\r\\n412 H2O521ICRU     1.000     0.0000 3.7014e-006 +/- 0.971  % 7.4121e-011 +/- 0.971  %\\r\\n418 H2O521ICRU     1.000     0.0000 6.1086e-006 +/- 0.769  % 1.2232e-010 +/- 0.769  %\\r\\n424 H2O521ICRU     1.000     0.0000 2.3315e-006 +/- 0.867  % 2.3344e-010 +/- 0.867  %\\r\\n430 H2O521ICRU     1.000     0.0000 0.0000e+000 +/- 100.0  % 0.0000e+000 +/- 100.0  %\\r\\n436 H2O521ICRU     1.000     0.0000 0.0000e+000 +/- 100.0  % 0.0000e+000 +/- 100.0  %\\r\\n442 H2O521ICRU     1.000     0.0000 0.0000e+000 +/- 100.0  % 0.0000e+000 +/- 100.0  %\\r\\n448 H2O521ICRU     1.000     0.0000 2.3065e-006 +/- 0.857  % 2.3094e-010 +/- 0.857  %\\r\\n454 H2O521ICRU     1.000     0.0000 6.0780e-006 +/- 0.773  % 1.2171e-010 +/- 0.773  %\\r\\n460 H2O521ICRU     1.000     0.0000 3.6958e-006 +/- 0.967  % 7.4009e-011 +/- 0.967  %\\r\\n466 H2O521ICRU     1.000     0.0000 2.4837e-006 +/- 1.161  % 4.9736e-011 +/- 1.161  %\\r\\n472 H2O521ICRU     1.000     0.0000 1.8826e-006 +/- 1.339  % 3.7700e-011 +/- 1.339  %\\r\\n478 H2O521ICRU     1.000     0.0000 1.4426e-006 +/- 1.541  % 2.8888e-011 +/- 1.541  %\\r\\n484 H2O521ICRU     1.000     0.0000 1.0988e-006 +/- 1.720  % 2.2003e-011 +/- 1.720  %\\r\\n490 H2O521ICRU     1.000     0.0000 9.3277e-007 +/- 1.921  % 1.8679e-011 +/- 1.921  %\\r\\n496 H2O521ICRU     1.000     0.0000 7.6078e-007 +/- 2.170  % 1.5235e-011 +/- 2.170  %\\r\\n502 H2O521ICRU     1.000     0.0000 6.0812e-007 +/- 2.387  % 1.2178e-011 +/- 2.387  %\\r\\n508 H2O521ICRU     1.000     0.0000 5.1128e-007 +/- 2.616  % 1.0238e-011 +/- 2.616  %\\r\\n514 H2O521ICRU     1.000     0.0000 4.1287e-007 +/- 2.907  % 8.2677e-012 +/- 2.907  %\\r\\n520 H2O521ICRU     1.000     0.0000 3.6601e-007 +/- 3.105  % 7.3294e-012 +/- 3.105  %\\r\\n526 H2O521ICRU     1.000     0.0000 3.0875e-007 +/- 3.379  % 6.1827e-012 +/- 3.379  %\\r\\n532 H2O521ICRU     1.000     0.0000 2.4654e-007 +/- 3.837  % 4.9369e-012 +/- 3.837  %\\r\\n538 H2O521ICRU     1.000     0.0000 2.0413e-007 +/- 4.031  % 4.0877e-012 +/- 4.031  %\\r\\n544 H2O521ICRU     1.000     0.0000 1.7530e-007 +/- 4.836  % 3.5103e-012 +/- 4.836  %\\r\\n550 H2O521ICRU     1.000     0.0000 1.2934e-007 +/- 5.296  % 2.5900e-012 +/- 5.296  %\\r\\n556 H2O521ICRU     1.000     0.0000 1.0519e-007 +/- 5.624  % 2.1064e-012 +/- 5.624  %\\r\\n562 H2O521ICRU     1.000     0.0000 9.5141e-008 +/- 6.234  % 1.9052e-012 +/- 6.234  %\\r\\n568 H2O521ICRU     1.000     0.0000 7.7514e-008 +/- 6.927  % 1.5522e-012 +/- 6.927  %\\r\\n574 H2O521ICRU     1.000     0.0000 6.2261e-008 +/- 7.888  % 1.2468e-012 +/- 7.888  %\\r\\n580 H2O521ICRU     1.000     0.0000 3.4381e-008 +/- 10.070 % 6.8849e-013 +/- 10.070 %'}\n"
          ],
          "name": "stdout"
        }
      ]
    },
    {
      "cell_type": "code",
      "metadata": {
        "id": "PJFLNpudSmzc",
        "colab_type": "code",
        "colab": {}
      },
      "source": [
        "# Read output file from the EGSnrc program \"Summary of region dosimetry per particle\"\n",
        "# Make sure to modify the name of objFile to match with your output file.\n",
        "\n",
        "dicRow = {}\n",
        "DoseTable = []\n",
        "\n",
        "objFile = open('IVBY0mm.txt','r')\n",
        "for row in objFile:\n",
        "  lstRow = row.split()\n",
        "  dicRow = {\"ir\": int(lstRow[0]), \"Dose Scored\": float(lstRow[8])}\n",
        "  DoseTable.append(dicRow)\n",
        "objFile.close()\n"
      ],
      "execution_count": 3,
      "outputs": []
    },
    {
      "cell_type": "markdown",
      "metadata": {
        "id": "BqnwryGkoiBF",
        "colab_type": "text"
      },
      "source": [
        "Run the following cell with the fixed Location only with the simulation output with the source at the center.  normDose should be defined with the dose scored at 2 mm when the source is positioned at the center"
      ]
    },
    {
      "cell_type": "code",
      "metadata": {
        "id": "HGs4AtYJ5E3E",
        "colab_type": "code",
        "colab": {}
      },
      "source": [
        "# RUN THIS CELL ONLY ONCE with the source at the center in Y axis.\n",
        "# Location is fixed from -6 to 6 with an increment of 0.25\n",
        "\n",
        "Location = np.arange(-6, 6.25, 0.25).tolist()\n",
        "normIndex = Location.index(2)\n",
        "\n",
        "# Normalize the dose such that Dose @ 2mm = 100%\n",
        "normDose = DoseTable[normIndex]['Dose Scored']"
      ],
      "execution_count": 4,
      "outputs": []
    },
    {
      "cell_type": "code",
      "metadata": {
        "id": "fgPA2BsZ1JpB",
        "colab_type": "code",
        "colab": {}
      },
      "source": [
        "# Normalize the dose based on the prescription dose (normDose) at 2mm with the assumption that the source is centered.\n",
        "\n",
        "normDoseTable = []\n",
        "for each in DoseTable:\n",
        "  normDoseEach = (each['Dose Scored']/normDose)*100\n",
        "  normDoseTable.append(normDoseEach)"
      ],
      "execution_count": 5,
      "outputs": []
    },
    {
      "cell_type": "code",
      "metadata": {
        "id": "4MicSiNn2XFe",
        "colab_type": "code",
        "colab": {}
      },
      "source": [
        "# Preparation for the plots\n",
        "# Plot normDoseTable (y-axis) vs. Location (x-axis)\n",
        "indices = [i for i in range(len(normDoseTable)) if normDoseTable[i]>400 or normDoseTable[i]<1] \n",
        "LocationPlot = list(Location)\n",
        "normDoseTablePlot = list(normDoseTable)\n",
        "if indices:\n",
        "  for each in indices:\n",
        "    del LocationPlot[each]\n",
        "    del normDoseTablePlot[each]\n",
        "    indices[:] = [number-1 for number in indices]  \n"
      ],
      "execution_count": 6,
      "outputs": []
    },
    {
      "cell_type": "code",
      "metadata": {
        "id": "QRtVtEb-iHgn",
        "colab_type": "code",
        "colab": {
          "base_uri": "https://localhost:8080/",
          "height": 34
        },
        "outputId": "8477b852-34f4-4fb0-94e6-41e1bd5ceea3"
      },
      "source": [
        "# Specify the source position\n",
        "sourcep = float(input('Enter the source position: '))"
      ],
      "execution_count": 7,
      "outputs": [
        {
          "output_type": "stream",
          "text": [
            "Enter the source position: 0\n"
          ],
          "name": "stdout"
        }
      ]
    },
    {
      "cell_type": "code",
      "metadata": {
        "id": "BgMTW0fmVtNp",
        "colab_type": "code",
        "colab": {
          "base_uri": "https://localhost:8080/",
          "height": 34
        },
        "outputId": "cd8f72e4-9b40-45f8-ec4b-cf429b6e380d"
      },
      "source": [
        "stentp = float(input('Enter the stent location: '))"
      ],
      "execution_count": 9,
      "outputs": [
        {
          "output_type": "stream",
          "text": [
            "Enter the stent location: 0\n"
          ],
          "name": "stdout"
        }
      ]
    },
    {
      "cell_type": "code",
      "metadata": {
        "id": "ktzSor3z336g",
        "colab_type": "code",
        "colab": {
          "base_uri": "https://localhost:8080/",
          "height": 306
        },
        "outputId": "0d11a806-f91a-4c05-9d97-0b6417a6a9c6"
      },
      "source": [
        "# Published PDD for Sr-90\n",
        "xaxis1 = np.linspace(0.75, 6.0, 22, endpoint = True, retstep = False, dtype = None, axis =0 )\n",
        "xaxis2 = np.linspace(-0.75, -6.0, 22, endpoint = True, retstep = False, dtype = None, axis =0 )\n",
        "yaxis = [370, 261, 196, 155, 121, 100, 81.3, 67.1, 53.8, 45.6, 38.5, 31.6, 25.8, 20.9, 17.4, 14.2, 11.3, 9.2, 7.22, 5.83, 4.42, 3.54]\n",
        "\n",
        "plt.plot(LocationPlot, normDoseTablePlot, 'o', color='blue')\n",
        "plt.plot(xaxis1, yaxis, color='red')\n",
        "plt.plot(xaxis2, yaxis, color='red')\n",
        "plt.xlabel('Radial distance in mm')\n",
        "plt.ylabel('Normalized dose (%)')\n",
        "plt.title('Relative dose with source at y=%i mm' %sourcep)\n",
        "plt.grid(b=True, which='minor', alpha = 10, color='0.65', linestyle='-')\n",
        "plt.plot([sourcep, sourcep], [0,350], color='black') # Source position\n",
        "plt.plot([stentp, stentp], [0,350], color='grey') # Source position\n",
        "plt.plot([-stentp, -stentp], [0,350], color='grey') # Source position\n",
        "plt.show()"
      ],
      "execution_count": 14,
      "outputs": [
        {
          "output_type": "display_data",
          "data": {
            "image/png": "[encoded data removed]",
            "text/plain": [
              "<Figure size 432x288 with 1 Axes>"
            ]
          },
          "metadata": {
            "tags": [],
            "needs_background": "light"
          }
        }
      ]
    }
  ]
}